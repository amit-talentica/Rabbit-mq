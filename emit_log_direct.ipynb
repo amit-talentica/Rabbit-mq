{
 "cells": [
  {
   "cell_type": "markdown",
   "metadata": {},
   "source": [
    "# Routing\n",
    "Receiving messages selectively"
   ]
  },
  {
   "cell_type": "code",
   "execution_count": 2,
   "metadata": {},
   "outputs": [
    {
     "name": "stdout",
     "output_type": "stream",
     "text": [
      " [x] Sent '-f':'C:\\\\Users\\\\amitkumarm\\\\AppData\\\\Roaming\\\\jupyter\\\\runtime\\\\kernel-e7eb70dd-371d-4090-99cf-8c2d5aa3c19d.json'\n"
     ]
    }
   ],
   "source": [
    "import pika\n",
    "import sys\n",
    "\n",
    "connection = pika.BlockingConnection(\n",
    "    pika.ConnectionParameters(host='localhost'))\n",
    "channel = connection.channel()\n",
    "\n",
    "channel.exchange_declare(exchange='direct_logs', exchange_type='direct')\n",
    "\n",
    "severity = sys.argv[1] if len(sys.argv) > 1 else 'info'\n",
    "message = ' '.join(sys.argv[2:]) or 'Hello World!'\n",
    "channel.basic_publish(\n",
    "    exchange='direct_logs', routing_key=severity, body=message)\n",
    "print(\" [x] Sent %r:%r\" % (severity, message))\n",
    "#connection.close()"
   ]
  },
  {
   "cell_type": "code",
   "execution_count": null,
   "metadata": {},
   "outputs": [],
   "source": []
  }
 ],
 "metadata": {
  "kernelspec": {
   "display_name": "Python 3",
   "language": "python",
   "name": "python3"
  },
  "language_info": {
   "codemirror_mode": {
    "name": "ipython",
    "version": 3
   },
   "file_extension": ".py",
   "mimetype": "text/x-python",
   "name": "python",
   "nbconvert_exporter": "python",
   "pygments_lexer": "ipython3",
   "version": "3.7.3"
  }
 },
 "nbformat": 4,
 "nbformat_minor": 2
}
